{
 "cells": [
  {
   "cell_type": "markdown",
   "metadata": {},
   "source": [
    "# PYTHON – WORKSHEET 1"
   ]
  },
  {
   "cell_type": "markdown",
   "metadata": {},
   "source": [
    "Q11 - Write a python program to find the factorial of a number."
   ]
  },
  {
   "cell_type": "code",
   "execution_count": 1,
   "metadata": {},
   "outputs": [
    {
     "name": "stdout",
     "output_type": "stream",
     "text": [
      "Enter a number X7\n",
      "The factorial of X is =  5040\n"
     ]
    }
   ],
   "source": [
    "x= int(input(\"Enter a number X\"))\n",
    "value=1\n",
    "if x<0:\n",
    "    print(\"Enter values greater than zero\")\n",
    "else:\n",
    "    for i in range(1,x+1):\n",
    "        value=value*i\n",
    "    print(\"The factorial of X is = \", value)"
   ]
  },
  {
   "cell_type": "markdown",
   "metadata": {},
   "source": [
    "Q12 - Write a python program to find whether a number is prime or composite."
   ]
  },
  {
   "cell_type": "code",
   "execution_count": 2,
   "metadata": {},
   "outputs": [
    {
     "name": "stdout",
     "output_type": "stream",
     "text": [
      "Enter a number Y11\n",
      "The number Y is Prime\n"
     ]
    }
   ],
   "source": [
    "Y=int(input(\"Enter a number Y\"))\n",
    "value=1\n",
    "\n",
    "if Y>1:\n",
    "    m=[m for m in range(1,Y+1) if Y%m==0]\n",
    "    l=(len(m))\n",
    "    if l>2:\n",
    "        print(\"The number Y is composite\")\n",
    "    else:\n",
    "        print(\"The number Y is Prime\")\n",
    "    \n",
    "else:\n",
    "    for i in range(0,1):\n",
    "        print(\"The number is neither prime or composite\")"
   ]
  },
  {
   "cell_type": "markdown",
   "metadata": {},
   "source": [
    "Q13 - Write a python program to check whether a given string is palindrome or not."
   ]
  },
  {
   "cell_type": "code",
   "execution_count": 3,
   "metadata": {},
   "outputs": [
    {
     "name": "stdout",
     "output_type": "stream",
     "text": [
      "Enter a wordmadam\n",
      "Its a palindrome\n"
     ]
    }
   ],
   "source": [
    "Z=list(input(\"Enter a word\"))\n",
    "z=Z[::-1]\n",
    "if Z==z:\n",
    "    print(\"Its a palindrome\")\n",
    "else:\n",
    "    print(\"Its not a palindrome\")"
   ]
  },
  {
   "cell_type": "markdown",
   "metadata": {},
   "source": [
    "Q14 - Write a Python program to get the third side of right-angled triangle from two given sides."
   ]
  },
  {
   "cell_type": "code",
   "execution_count": 4,
   "metadata": {
    "scrolled": true
   },
   "outputs": [
    {
     "name": "stdout",
     "output_type": "stream",
     "text": [
      "Enter the value of perpendicular side of the right angle triangle3\n",
      "Enter the value of the adjacent side of the right angle triangle4\n",
      "The Hypothesis = 5.0\n"
     ]
    }
   ],
   "source": [
    "import math as m\n",
    "B=float(input(\"Enter the value of perpendicular side of the right angle triangle\"))\n",
    "C=float(input(\"Enter the value of the adjacent side of the right angle triangle\"))\n",
    "\n",
    "if B>0 and C>0:\n",
    "    A=m.sqrt((B**2)+(C**2))\n",
    "    print(\"The Hypothesis =\",round(A,2))\n",
    "    \n",
    "else:\n",
    "    print(\"Invalid entry\")"
   ]
  },
  {
   "cell_type": "markdown",
   "metadata": {},
   "source": [
    "Q15 - Write a python program to print the frequency of each of the characters present in a given string"
   ]
  },
  {
   "cell_type": "code",
   "execution_count": 13,
   "metadata": {},
   "outputs": [],
   "source": [
    "l=[]\n",
    "def f():\n",
    "        a=input(\"Enter a string\")\n",
    "        A=a.lower()\n",
    "        lis=list(A)\n",
    "        \n",
    "        for i in lis:\n",
    "            if i not in l:\n",
    "                l.append(i)\n",
    "    \n",
    "        for e in l:\n",
    "            print(\"Character \",e ,\" has frequency=\",lis.count(i))"
   ]
  },
  {
   "cell_type": "code",
   "execution_count": 14,
   "metadata": {},
   "outputs": [
    {
     "name": "stdout",
     "output_type": "stream",
     "text": [
      "Enter a stringabacbac\n",
      "Character  a  has frequency= 2\n",
      "Character  b  has frequency= 2\n",
      "Character  c  has frequency= 2\n"
     ]
    }
   ],
   "source": [
    "f()"
   ]
  }
 ],
 "metadata": {
  "kernelspec": {
   "display_name": "Python 3",
   "language": "python",
   "name": "python3"
  },
  "language_info": {
   "codemirror_mode": {
    "name": "ipython",
    "version": 3
   },
   "file_extension": ".py",
   "mimetype": "text/x-python",
   "name": "python",
   "nbconvert_exporter": "python",
   "pygments_lexer": "ipython3",
   "version": "3.8.5"
  }
 },
 "nbformat": 4,
 "nbformat_minor": 4
}
